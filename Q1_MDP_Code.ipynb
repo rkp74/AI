{
  "nbformat": 4,
  "nbformat_minor": 0,
  "metadata": {
    "colab": {
      "provenance": [],
      "authorship_tag": "ABX9TyO2ga1NSM3YEduShTVFDGWY",
      "include_colab_link": true
    },
    "kernelspec": {
      "name": "python3",
      "display_name": "Python 3"
    },
    "language_info": {
      "name": "python"
    }
  },
  "cells": [
    {
      "cell_type": "markdown",
      "metadata": {
        "id": "view-in-github",
        "colab_type": "text"
      },
      "source": [
        "<a href=\"https://colab.research.google.com/github/rkp74/AI/blob/main/Q1_MDP_Code.ipynb\" target=\"_parent\"><img src=\"https://colab.research.google.com/assets/colab-badge.svg\" alt=\"Open In Colab\"/></a>"
      ]
    },
    {
      "cell_type": "code",
      "source": [
        "import numpy as np\n",
        "\n",
        "class MDP():\n",
        "    \n",
        "    prob_correct_answer = [0.99, 0.9, 0.8, 0.7, 0.6, 0.5, 0.4, 0.3, 0.2, 0.1]\n",
        "    rewards = [100, 500, 1000, 5000, 10000, 50000, 100000, 500000, 1000000, 5000000]\n",
        "    n_states = 10\n",
        "    gamma = 1\n",
        "    epsilon = 10\n",
        "    V = np.zeros(n_states)\n",
        "    policy = np.zeros(n_states)\n",
        "        \n",
        "    def policy_iteration(self):\n",
        "        iterations = 0\n",
        "        while True:\n",
        "            delta = 0\n",
        "            for s in range(n_states):\n",
        "                iterations = iterations+1\n",
        "                stay_value = 0\n",
        "                quit_value = rewards[s]\n",
        "                for s_prime in range(s+1, n_states):\n",
        "                    stay_value += prob_correct_answer[s] * (rewards[s] + gamma * V[s_prime])\n",
        "                    quit_value += (1 - prob_correct_answer[s]) * rewards[s_prime] * gamma ** (s_prime - s - 1)\n",
        "                max_value = max(stay_value, quit_value)\n",
        "                if max_value == quit_value:\n",
        "                    policy[s] = 1\n",
        "                else:\n",
        "                    policy[s] = 0\n",
        "                delta = abs(max_value - V[s])\n",
        "                V[s] = max_value\n",
        "            if delta < epsilon:\n",
        "                print(\"Number of iterations it took to converge is : \"+str(iterations))\n",
        "                break\n",
        "    \n",
        "    def print_states(self):\n",
        "        for s in range(n_states):\n",
        "            state_numer = str(s+1)\n",
        "            if policy[s] == 1:\n",
        "                print(\"State \"+state_numer+\": Quit\")\n",
        "                break\n",
        "            else:\n",
        "                print(\"State \"+state_numer+\": Stay\")"
      ],
      "metadata": {
        "id": "GAGRz4YTrgs9"
      },
      "execution_count": 5,
      "outputs": []
    },
    {
      "cell_type": "code",
      "source": [
        "game_play = MDP()\n",
        "game_play.policy_iteration()\n",
        "game_play.print_states()"
      ],
      "metadata": {
        "id": "HSP0TnR1rmlu"
      },
      "execution_count": null,
      "outputs": []
    }
  ]
}